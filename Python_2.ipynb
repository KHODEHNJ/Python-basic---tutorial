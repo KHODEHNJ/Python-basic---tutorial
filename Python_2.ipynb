{
  "cells": [
    {
      "cell_type": "markdown",
      "source": [
        "# **Loops**\n",
        "\n",
        "Python has 2 loops commands :\n",
        "\n",
        "\n",
        "1. While\n",
        "2. For\n",
        "\n",
        "\n",
        "\n",
        "\n"
      ],
      "metadata": {
        "id": "JoUlQ0kf9v-e"
      }
    },
    {
      "cell_type": "markdown",
      "source": [
        "# **While loops**\n",
        "\n",
        "\n",
        "While loops is a continuous loops untils it's **True**"
      ],
      "metadata": {
        "id": "Qi3mzzaF7xpI"
      }
    },
    {
      "cell_type": "code",
      "source": [
        "# Example\n",
        "l = 2\n",
        "\n",
        "while l<=6:\n",
        "   print(l)\n",
        "   l+=1"
      ],
      "metadata": {
        "id": "myOUIK6d9CgE",
        "outputId": "74373747-025b-4aa3-d755-ea0def626fd7",
        "colab": {
          "base_uri": "https://localhost:8080/"
        }
      },
      "execution_count": null,
      "outputs": [
        {
          "output_type": "stream",
          "name": "stdout",
          "text": [
            "2\n",
            "3\n",
            "4\n",
            "5\n",
            "6\n"
          ]
        }
      ]
    },
    {
      "cell_type": "code",
      "source": [
        "#Example\n",
        "\n",
        "i = 1\n",
        "\n",
        "while i < 20:\n",
        "    i+=1\n",
        "    if i % 15 == 0:\n",
        "        print(i,'L')\n",
        "        continue\n",
        "    elif i % 5 == 0:\n",
        "        print(i,'A')\n",
        "        continue\n",
        "    elif i % 3 == 0:\n",
        "        print(i,'AL')\n",
        "        continue\n",
        "    else:\n",
        "        print(i)"
      ],
      "metadata": {
        "id": "ND-UZFb2_4Gm",
        "outputId": "0e23af90-411c-48ba-e463-367c36562ac6",
        "colab": {
          "base_uri": "https://localhost:8080/"
        }
      },
      "execution_count": null,
      "outputs": [
        {
          "output_type": "stream",
          "name": "stdout",
          "text": [
            "2\n",
            "3 AL\n",
            "4\n",
            "5 A\n",
            "6 AL\n",
            "7\n",
            "8\n",
            "9 AL\n",
            "10 A\n",
            "11\n",
            "12 AL\n",
            "13\n",
            "14\n",
            "15 L\n",
            "16\n",
            "17\n",
            "18 AL\n",
            "19\n",
            "20 A\n"
          ]
        }
      ]
    },
    {
      "cell_type": "code",
      "source": [
        "i = 20\n",
        "\n",
        "while i>4:\n",
        "  i-=2\n",
        "  print(i)"
      ],
      "metadata": {
        "id": "FsTepxh9AdPd",
        "outputId": "d3810142-bbe7-49e4-b84b-b1ad4f3515ea",
        "colab": {
          "base_uri": "https://localhost:8080/"
        }
      },
      "execution_count": null,
      "outputs": [
        {
          "output_type": "stream",
          "name": "stdout",
          "text": [
            "18\n",
            "16\n",
            "14\n",
            "12\n",
            "10\n",
            "8\n",
            "6\n",
            "4\n"
          ]
        }
      ]
    },
    {
      "cell_type": "code",
      "source": [
        "h = 5\n",
        "\n",
        "while h/2<=10:\n",
        "  h+=3\n",
        "  print(h)"
      ],
      "metadata": {
        "id": "ybHmer_cBJtB",
        "outputId": "b0e34e4c-71f6-44ff-f2b5-03c7b25ce3c6",
        "colab": {
          "base_uri": "https://localhost:8080/"
        }
      },
      "execution_count": null,
      "outputs": [
        {
          "output_type": "stream",
          "name": "stdout",
          "text": [
            "8\n",
            "11\n",
            "14\n",
            "17\n",
            "20\n",
            "23\n"
          ]
        }
      ]
    },
    {
      "cell_type": "code",
      "source": [
        "Num = int(input(\"number : \\n\"))\n",
        "\n",
        "while Num <15:\n",
        "  Num+=1\n",
        "  print(Num)"
      ],
      "metadata": {
        "id": "w7hrPvyHCIPY",
        "outputId": "0be4ccd6-0402-48e2-88d9-3b0f4b7506e3",
        "colab": {
          "base_uri": "https://localhost:8080/"
        }
      },
      "execution_count": null,
      "outputs": [
        {
          "output_type": "stream",
          "name": "stdout",
          "text": [
            "number : \n",
            "3\n",
            "4\n",
            "5\n",
            "6\n",
            "7\n",
            "8\n",
            "9\n",
            "10\n",
            "11\n",
            "12\n",
            "13\n",
            "14\n",
            "15\n"
          ]
        }
      ]
    },
    {
      "cell_type": "markdown",
      "source": [
        "# FOR loops\n",
        "A foor loop in python iterates over a sequence (tuple , list , ...) and executes a block of code for each item in the sequence .\n"
      ],
      "metadata": {
        "id": "FTeeZAwSwZxi"
      }
    },
    {
      "cell_type": "code",
      "source": [
        "numbers = [1,2,3,4,5,6,7,8,9,10]\n",
        "for i in numbers :\n",
        "  if i+2 <10 :\n",
        "    print(i)"
      ],
      "metadata": {
        "colab": {
          "base_uri": "https://localhost:8080/"
        },
        "id": "BB7IJRRVwjOB",
        "outputId": "7a20bb86-75fe-4639-b561-7d27fdcfd77a"
      },
      "execution_count": 27,
      "outputs": [
        {
          "output_type": "stream",
          "name": "stdout",
          "text": [
            "1\n",
            "2\n",
            "3\n",
            "4\n",
            "5\n",
            "6\n",
            "7\n"
          ]
        }
      ]
    },
    {
      "cell_type": "code",
      "source": [
        "for j in numbers :\n",
        "  if j+7<10:\n",
        "    print(j)"
      ],
      "metadata": {
        "colab": {
          "base_uri": "https://localhost:8080/"
        },
        "id": "QAUsblUTzW01",
        "outputId": "cb4af25b-9e40-4442-fd15-6bf11bd2e3ab"
      },
      "execution_count": 29,
      "outputs": [
        {
          "output_type": "stream",
          "name": "stdout",
          "text": [
            "1\n",
            "2\n"
          ]
        }
      ]
    },
    {
      "cell_type": "markdown",
      "source": [
        "# A true loops\n",
        "A loop that always works and it is unstoppable\n"
      ],
      "metadata": {
        "id": "To0bGvzz03rb"
      }
    },
    {
      "cell_type": "code",
      "source": [
        "stop_time = 0\n",
        "x=0\n",
        "while True:\n",
        "  x+=2\n",
        "  stop_time+=1\n",
        "  print(x)\n",
        "  if stop_time <3:\n",
        "    pass\n",
        "  else:\n",
        "    break\n",
        "    # if you do not write the break , the loops always continues"
      ],
      "metadata": {
        "colab": {
          "base_uri": "https://localhost:8080/"
        },
        "id": "Ffz-IwRi1H9g",
        "outputId": "e5f9294c-4c40-43f3-d276-3acc25965d92"
      },
      "execution_count": 32,
      "outputs": [
        {
          "output_type": "stream",
          "name": "stdout",
          "text": [
            "2\n",
            "4\n",
            "6\n"
          ]
        }
      ]
    }
  ],
  "metadata": {
    "colab": {
      "provenance": []
    },
    "kernelspec": {
      "display_name": "Python 3",
      "name": "python3"
    }
  },
  "nbformat": 4,
  "nbformat_minor": 0
}