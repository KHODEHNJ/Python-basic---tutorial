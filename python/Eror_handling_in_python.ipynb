{
  "nbformat": 4,
  "nbformat_minor": 0,
  "metadata": {
    "colab": {
      "provenance": []
    },
    "kernelspec": {
      "name": "python3",
      "display_name": "Python 3"
    },
    "language_info": {
      "name": "python"
    }
  },
  "cells": [
    {
      "cell_type": "markdown",
      "source": [
        "# **Error Handling in Python: A Comprehensive Guide with Examples**\n",
        "\n",
        "Errors are an inevitable part of programming. Whether it’s a syntax mistake, a logical error, or an unexpected input, errors can disrupt the flow of your program. Python provides robust mechanisms for handling errors gracefully, ensuring that your program can recover from unexpected situations. In this article, we’ll explore error handling in Python, including the use of `try`, `except`, finally, and raise statements, along with practical examples.\n",
        "\n",
        "\n",
        "\n",
        "\n",
        "\n"
      ],
      "metadata": {
        "id": "KaOdRlnm4RS6"
      }
    },
    {
      "cell_type": "markdown",
      "source": [
        "# **Types of Errors in Python**\n",
        "\n",
        "Before diving into error handling, let’s briefly discuss the types of errors you may encounter in Python:\n",
        "\n",
        "**1-Syntax Errors: Occur when the code violates Python’s syntax rules.**"
      ],
      "metadata": {
        "id": "yF8o4wCS4iAP"
      }
    },
    {
      "cell_type": "code",
      "source": [
        "print(\"Hello World\"  # Missing closing parenthesis"
      ],
      "metadata": {
        "colab": {
          "base_uri": "https://localhost:8080/",
          "height": 106
        },
        "id": "_tVhBtqG4poY",
        "outputId": "8d4d92cb-c3fb-4903-d9ea-b06e5fd88709"
      },
      "execution_count": 1,
      "outputs": [
        {
          "output_type": "error",
          "ename": "SyntaxError",
          "evalue": "incomplete input (<ipython-input-1-a7657f7d8239>, line 1)",
          "traceback": [
            "\u001b[0;36m  File \u001b[0;32m\"<ipython-input-1-a7657f7d8239>\"\u001b[0;36m, line \u001b[0;32m1\u001b[0m\n\u001b[0;31m    print(\"Hello World\"  # Missing closing parenthesis\u001b[0m\n\u001b[0m                                                      ^\u001b[0m\n\u001b[0;31mSyntaxError\u001b[0m\u001b[0;31m:\u001b[0m incomplete input\n"
          ]
        }
      ]
    },
    {
      "cell_type": "markdown",
      "source": [
        "**2-Runtime Errors (Exceptions)**: Occur during the execution of the program, such as dividing by zero or accessing a non-existent key in a dictionary."
      ],
      "metadata": {
        "id": "0RKqkWqD4xa2"
      }
    },
    {
      "cell_type": "code",
      "source": [
        "print(10 / 0)  # ZeroDivisionError"
      ],
      "metadata": {
        "colab": {
          "base_uri": "https://localhost:8080/",
          "height": 141
        },
        "id": "xEvBOJh94-gH",
        "outputId": "babb764a-e2ac-444d-e422-f94f2b3b63a3"
      },
      "execution_count": 2,
      "outputs": [
        {
          "output_type": "error",
          "ename": "ZeroDivisionError",
          "evalue": "division by zero",
          "traceback": [
            "\u001b[0;31m---------------------------------------------------------------------------\u001b[0m",
            "\u001b[0;31mZeroDivisionError\u001b[0m                         Traceback (most recent call last)",
            "\u001b[0;32m<ipython-input-2-6dece45c4c05>\u001b[0m in \u001b[0;36m<cell line: 0>\u001b[0;34m()\u001b[0m\n\u001b[0;32m----> 1\u001b[0;31m \u001b[0mprint\u001b[0m\u001b[0;34m(\u001b[0m\u001b[0;36m10\u001b[0m \u001b[0;34m/\u001b[0m \u001b[0;36m0\u001b[0m\u001b[0;34m)\u001b[0m  \u001b[0;31m# ZeroDivisionError\u001b[0m\u001b[0;34m\u001b[0m\u001b[0;34m\u001b[0m\u001b[0m\n\u001b[0m",
            "\u001b[0;31mZeroDivisionError\u001b[0m: division by zero"
          ]
        }
      ]
    },
    {
      "cell_type": "markdown",
      "source": [
        "**Logical Errors:** Occur when the program runs without crashing but produces incorrect results due to flawed logic."
      ],
      "metadata": {
        "id": "K52u89eW5EhX"
      }
    },
    {
      "cell_type": "markdown",
      "source": [
        "# **Error Handling Using try and except**\n",
        "\n",
        "The primary way to handle errors in Python is by using the try and except blocks. The try block contains the code that might raise an exception, while the except block handles the exception if it occurs.\n",
        "# **Basic Example**"
      ],
      "metadata": {
        "id": "ezQ_cVK95HT4"
      }
    },
    {
      "cell_type": "code",
      "source": [
        "try:\n",
        "    result = 10 / 0\n",
        "except ZeroDivisionError:\n",
        "    print(\"Error: Division by zero is not allowed.\")"
      ],
      "metadata": {
        "colab": {
          "base_uri": "https://localhost:8080/"
        },
        "id": "KMZvB76B5Pqq",
        "outputId": "a4b9f5fd-ccbe-423b-c0fd-86b634856e12"
      },
      "execution_count": 3,
      "outputs": [
        {
          "output_type": "stream",
          "name": "stdout",
          "text": [
            "Error: Division by zero is not allowed.\n"
          ]
        }
      ]
    },
    {
      "cell_type": "markdown",
      "source": [
        "# **Handling Multiple Exceptions**\n",
        "\n",
        "You can handle multiple exceptions by specifying multiple except blocks or using a tuple."
      ],
      "metadata": {
        "id": "JuCWyHTL5Taf"
      }
    },
    {
      "cell_type": "code",
      "source": [
        "try:\n",
        "    num = int(input(\"Enter a number: \"))\n",
        "    result = 10 / num\n",
        "    print(\"Result:\", result)\n",
        "except ZeroDivisionError:\n",
        "    print(\"Error: Division by zero is not allowed.\")\n",
        "except ValueError:\n",
        "    print(\"Error: Invalid input. Please enter a valid number.\")"
      ],
      "metadata": {
        "colab": {
          "base_uri": "https://localhost:8080/"
        },
        "id": "6414IfE95Ws2",
        "outputId": "d49a25bf-417c-4cda-d3ae-b33e5c15f5ff"
      },
      "execution_count": 4,
      "outputs": [
        {
          "output_type": "stream",
          "name": "stdout",
          "text": [
            "Enter a number: 0\n",
            "Error: Division by zero is not allowed.\n"
          ]
        }
      ]
    },
    {
      "cell_type": "markdown",
      "source": [
        "# **Using a Generic except Block**\n",
        "\n",
        "You can use a generic except block to catch all exceptions. However, this is generally discouraged because it can hide unexpected errors."
      ],
      "metadata": {
        "id": "krhCkCWK5ezg"
      }
    },
    {
      "cell_type": "code",
      "source": [
        "try:\n",
        "    num = int(input(\"Enter a number: \"))\n",
        "    result = 10 / num\n",
        "    print(\"Result:\", result)\n",
        "except:\n",
        "    print(\"An error occurred.\")"
      ],
      "metadata": {
        "colab": {
          "base_uri": "https://localhost:8080/"
        },
        "id": "QiNZL9Yh5hi_",
        "outputId": "2129f9e6-9914-4528-a320-0ea38bc95555"
      },
      "execution_count": 6,
      "outputs": [
        {
          "output_type": "stream",
          "name": "stdout",
          "text": [
            "Enter a number: f\n",
            "An error occurred.\n"
          ]
        }
      ]
    },
    {
      "cell_type": "markdown",
      "source": [
        "# **The `else` Block**\n",
        "\n",
        "The else block is executed if no exceptions are raised in the try block. It’s useful for code that should run only when the try block succeeds."
      ],
      "metadata": {
        "id": "bIw4CYfz5rXl"
      }
    },
    {
      "cell_type": "code",
      "source": [
        "try:\n",
        "    num = int(input(\"Enter a number: \"))\n",
        "    result = 10 / num\n",
        "except ZeroDivisionError:\n",
        "    print(\"Error: Division by zero is not allowed.\")\n",
        "except ValueError:\n",
        "    print(\"Error: Invalid input. Please enter a valid number.\")\n",
        "else:\n",
        "    print(\"Result:\", result)"
      ],
      "metadata": {
        "colab": {
          "base_uri": "https://localhost:8080/"
        },
        "id": "m3Y4vI5W5wVn",
        "outputId": "4f33fdec-4b9c-45e2-ea0a-be903091ce33"
      },
      "execution_count": 7,
      "outputs": [
        {
          "output_type": "stream",
          "name": "stdout",
          "text": [
            "Enter a number: 0\n",
            "Error: Division by zero is not allowed.\n"
          ]
        }
      ]
    },
    {
      "cell_type": "markdown",
      "source": [
        "# **The finally Block**\n",
        "\n",
        "The `finally` block is executed no matter what—whether an exception occurs or not. It’s typically used for cleanup actions, such as closing files or releasing resources."
      ],
      "metadata": {
        "id": "vMSZviDx54FX"
      }
    },
    {
      "cell_type": "code",
      "source": [
        "try:\n",
        "    file = open(\"OP.ipynb\", \"r\")\n",
        "    content = file.read()\n",
        "    print(content)\n",
        "except FileNotFoundError:\n",
        "    print(\"Error: File not found.\")\n",
        "finally:\n",
        "    file.close()\n",
        "    print(\"File closed.\")"
      ],
      "metadata": {
        "colab": {
          "base_uri": "https://localhost:8080/"
        },
        "id": "-b3vU5Ob55r6",
        "outputId": "bcbcc2ba-b783-478d-c413-719c05cdb8c8"
      },
      "execution_count": 14,
      "outputs": [
        {
          "output_type": "stream",
          "name": "stdout",
          "text": [
            "Error: File not found.\n",
            "File closed.\n"
          ]
        }
      ]
    },
    {
      "cell_type": "markdown",
      "source": [
        "# **Raising Exceptions with `raise`**\n",
        "\n",
        "Sometimes, you may want to raise an exception explicitly using the raise keyword. This is useful for enforcing certain conditions in your code."
      ],
      "metadata": {
        "id": "sPqdMVe67sqX"
      }
    },
    {
      "cell_type": "code",
      "source": [
        "def check_age(age):\n",
        "    if age < 0:\n",
        "        raise ValueError(\"Age cannot be negative.\")\n",
        "    elif age < 18:\n",
        "        print(\"You are a minor.\")\n",
        "    else:\n",
        "        print(\"You are an adult.\")\n",
        "\n",
        "try:\n",
        "    check_age(-5)\n",
        "except ValueError as e:\n",
        "    print(e)"
      ],
      "metadata": {
        "colab": {
          "base_uri": "https://localhost:8080/"
        },
        "id": "2U_QAMBJ7ya2",
        "outputId": "764bc5e7-d0d2-414a-8a3e-02e219c26e04"
      },
      "execution_count": 15,
      "outputs": [
        {
          "output_type": "stream",
          "name": "stdout",
          "text": [
            "Age cannot be negative.\n"
          ]
        }
      ]
    },
    {
      "cell_type": "markdown",
      "source": [
        "## **Custom Exceptions**\n",
        "\n",
        "You can define your own exceptions by creating a new class that inherits from Python’s built-in Exception class."
      ],
      "metadata": {
        "id": "tWPewdjr74a-"
      }
    },
    {
      "cell_type": "code",
      "source": [
        "class NegativeNumberError(Exception):\n",
        "    pass\n",
        "\n",
        "def check_positive(number):\n",
        "    if number < 0:\n",
        "        raise NegativeNumberError(\"Negative numbers are not allowed.\")\n",
        "\n",
        "try:\n",
        "    check_positive(-10)\n",
        "except NegativeNumberError as e:\n",
        "    print(e)"
      ],
      "metadata": {
        "colab": {
          "base_uri": "https://localhost:8080/"
        },
        "id": "NLaUz_e-73zZ",
        "outputId": "d9f9c92d-1dfc-4ac2-ff18-5625bc1811c0"
      },
      "execution_count": 16,
      "outputs": [
        {
          "output_type": "stream",
          "name": "stdout",
          "text": [
            "Negative numbers are not allowed.\n"
          ]
        }
      ]
    }
  ]
}