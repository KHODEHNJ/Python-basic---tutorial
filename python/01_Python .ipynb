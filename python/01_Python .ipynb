{
  "nbformat": 4,
  "nbformat_minor": 0,
  "metadata": {
    "colab": {
      "provenance": []
    },
    "kernelspec": {
      "name": "python3",
      "display_name": "Python 3"
    },
    "language_info": {
      "name": "python"
    }
  },
  "cells": [
    {
      "cell_type": "markdown",
      "source": [
        "# **String Methods in Python**"
      ],
      "metadata": {
        "id": "zcxXG4tTARHR"
      }
    },
    {
      "cell_type": "markdown",
      "source": [
        "# **1. Changing Case**\n",
        "\n",
        "These methods are used to change the case of a string.\n",
        "\n",
        "`upper()`\n",
        "\n",
        "Converts all characters in the string to uppercase."
      ],
      "metadata": {
        "id": "yOwHUTkVAaHL"
      }
    },
    {
      "cell_type": "code",
      "execution_count": 1,
      "metadata": {
        "colab": {
          "base_uri": "https://localhost:8080/"
        },
        "id": "qNlXejym_23e",
        "outputId": "e0273e43-6455-4c68-ecff-9a132f35f25e"
      },
      "outputs": [
        {
          "output_type": "stream",
          "name": "stdout",
          "text": [
            "HELLO, WORLD!\n"
          ]
        }
      ],
      "source": [
        "text = \"Hello, World!\"\n",
        "print(text.upper())"
      ]
    },
    {
      "cell_type": "markdown",
      "source": [
        "`lower()`\n",
        "\n",
        "Converts all characters in the string to lowercase."
      ],
      "metadata": {
        "id": "n-eG6wu2Aong"
      }
    },
    {
      "cell_type": "code",
      "source": [
        "text = \" HELLO, WORLD!\"\n",
        "print(text.lower())"
      ],
      "metadata": {
        "colab": {
          "base_uri": "https://localhost:8080/"
        },
        "id": "znvW6M-xAr95",
        "outputId": "38ac23ec-766c-4dc2-ef5b-9f97b6bd8c38"
      },
      "execution_count": 4,
      "outputs": [
        {
          "output_type": "stream",
          "name": "stdout",
          "text": [
            " hello, world!\n"
          ]
        }
      ]
    },
    {
      "cell_type": "markdown",
      "source": [
        "`title()`\n",
        "\n",
        "Converts the first character of each word to uppercase."
      ],
      "metadata": {
        "id": "5Agru-SJA0O_"
      }
    },
    {
      "cell_type": "code",
      "source": [
        "text = \"hello world\"\n",
        "print(text.title())"
      ],
      "metadata": {
        "colab": {
          "base_uri": "https://localhost:8080/"
        },
        "id": "-xV0PnQ-A1jI",
        "outputId": "502a94f7-b31e-439b-a730-4be52e869eb7"
      },
      "execution_count": 5,
      "outputs": [
        {
          "output_type": "stream",
          "name": "stdout",
          "text": [
            "Hello World\n"
          ]
        }
      ]
    },
    {
      "cell_type": "markdown",
      "source": [
        "`capitalize()`\n",
        "\n",
        "Converts the first character of the string to uppercase and the rest to lowercase."
      ],
      "metadata": {
        "id": "bHQTBTg7A-ay"
      }
    },
    {
      "cell_type": "code",
      "source": [
        "text = \"hello world\"\n",
        "print(text.capitalize())"
      ],
      "metadata": {
        "colab": {
          "base_uri": "https://localhost:8080/"
        },
        "id": "Q44NsYWFA_mB",
        "outputId": "3fc85e03-6be2-4230-8543-d3b984caac0e"
      },
      "execution_count": 6,
      "outputs": [
        {
          "output_type": "stream",
          "name": "stdout",
          "text": [
            "Hello world\n"
          ]
        }
      ]
    },
    {
      "cell_type": "markdown",
      "source": [
        "`swapcase()`\n",
        "\n",
        "Swaps the case of all characters in the string."
      ],
      "metadata": {
        "id": "iH8-S9oKBD9X"
      }
    },
    {
      "cell_type": "code",
      "source": [
        "text = \"Hello, World!\"\n",
        "print(text.swapcase())"
      ],
      "metadata": {
        "colab": {
          "base_uri": "https://localhost:8080/"
        },
        "id": "Dc-aw4knBDGJ",
        "outputId": "90e4f8a1-9ed0-4a79-be57-d879f088af62"
      },
      "execution_count": 7,
      "outputs": [
        {
          "output_type": "stream",
          "name": "stdout",
          "text": [
            "hELLO, wORLD!\n"
          ]
        }
      ]
    },
    {
      "cell_type": "markdown",
      "source": [
        "# **2. Searching and Checking**\n",
        "\n",
        "These methods are used to search for substrings or check the content of a string.\n",
        "\n",
        "`find()`\n",
        "\n",
        "Returns the index of the first occurrence of a substring. Returns -1 if the substring is not found."
      ],
      "metadata": {
        "id": "bnGUJqHRBPDg"
      }
    },
    {
      "cell_type": "code",
      "source": [
        "text = \"Hello, World!\"\n",
        "print(text.find(\"World\"))\n",
        "print(text.find(\"Python\"))"
      ],
      "metadata": {
        "colab": {
          "base_uri": "https://localhost:8080/"
        },
        "id": "A_CiQFkLBSRX",
        "outputId": "6a201381-7afb-4525-dd83-88965ff5b19a"
      },
      "execution_count": 8,
      "outputs": [
        {
          "output_type": "stream",
          "name": "stdout",
          "text": [
            "7\n",
            "-1\n"
          ]
        }
      ]
    },
    {
      "cell_type": "markdown",
      "source": [
        "`index()`\n",
        "\n",
        "Similar to find(), but raises a ValueError if the substring is not found."
      ],
      "metadata": {
        "id": "JFQXH7DEBZh5"
      }
    },
    {
      "cell_type": "code",
      "source": [
        "text = \"Hello, World!\"\n",
        "print(text.index(\"World\"))"
      ],
      "metadata": {
        "colab": {
          "base_uri": "https://localhost:8080/"
        },
        "id": "N_hibZ0XBg75",
        "outputId": "e3b4f77a-2665-4e5d-8643-998c23869b36"
      },
      "execution_count": 11,
      "outputs": [
        {
          "output_type": "stream",
          "name": "stdout",
          "text": [
            "7\n"
          ]
        }
      ]
    },
    {
      "cell_type": "markdown",
      "source": [
        "`count()`\n",
        "\n",
        "Returns the number of occurrences of a substring."
      ],
      "metadata": {
        "id": "H_GCKdkLBrJC"
      }
    },
    {
      "cell_type": "code",
      "source": [
        "text = \"Hello, World!\"\n",
        "print(text.count(\"l\"))"
      ],
      "metadata": {
        "colab": {
          "base_uri": "https://localhost:8080/"
        },
        "id": "Kw3kQ6WiBqKB",
        "outputId": "9b98f633-96d2-447b-dc6b-01ce3f9967d5"
      },
      "execution_count": 12,
      "outputs": [
        {
          "output_type": "stream",
          "name": "stdout",
          "text": [
            "3\n"
          ]
        }
      ]
    },
    {
      "cell_type": "markdown",
      "source": [
        "`startswith()`\n",
        "\n",
        "Checks if the string starts with a specified substring."
      ],
      "metadata": {
        "id": "1s2J_T9LB1ZY"
      }
    },
    {
      "cell_type": "code",
      "source": [
        "text = \"Hello, World!\"\n",
        "print(text.startswith(\"Hello\"))"
      ],
      "metadata": {
        "colab": {
          "base_uri": "https://localhost:8080/"
        },
        "id": "J_1Z69dUB2Sp",
        "outputId": "563b6cba-3625-48c2-f8a2-37c6b58e6c5f"
      },
      "execution_count": 13,
      "outputs": [
        {
          "output_type": "stream",
          "name": "stdout",
          "text": [
            "True\n"
          ]
        }
      ]
    },
    {
      "cell_type": "markdown",
      "source": [
        "`endswith()`\n",
        "\n",
        "Checks if the string ends with a specified substring."
      ],
      "metadata": {
        "id": "2t07G5NnB6ah"
      }
    },
    {
      "cell_type": "code",
      "source": [
        "text = \"Hello, World!\"\n",
        "print(text.endswith(\"World!\"))"
      ],
      "metadata": {
        "colab": {
          "base_uri": "https://localhost:8080/"
        },
        "id": "1EbfWvRiB9Ey",
        "outputId": "380cb362-7492-43fc-88fd-18509c31763d"
      },
      "execution_count": 15,
      "outputs": [
        {
          "output_type": "stream",
          "name": "stdout",
          "text": [
            "True\n"
          ]
        }
      ]
    },
    {
      "cell_type": "markdown",
      "source": [
        "`isdigit()`\n",
        "\n",
        "Checks if all characters in the string are digits."
      ],
      "metadata": {
        "id": "5fchyu0cCCaQ"
      }
    },
    {
      "cell_type": "code",
      "source": [
        "text = \"12345\"\n",
        "print(text.isdigit())"
      ],
      "metadata": {
        "colab": {
          "base_uri": "https://localhost:8080/"
        },
        "id": "brpidtd2CBqf",
        "outputId": "68daeafb-c88b-44d6-ff53-adcf19b9faaa"
      },
      "execution_count": 16,
      "outputs": [
        {
          "output_type": "stream",
          "name": "stdout",
          "text": [
            "True\n"
          ]
        }
      ]
    },
    {
      "cell_type": "markdown",
      "source": [
        "# **3. Modifying Strings**\n",
        "\n",
        "These methods are used to modify or manipulate strings.\n",
        "\n",
        "`replace()`\n",
        "\n",
        "Replaces a substring with another substring."
      ],
      "metadata": {
        "id": "HkJkOJLiCHUN"
      }
    },
    {
      "cell_type": "code",
      "source": [
        "text = \"Hello, World!\"\n",
        "print(text.replace(\"World\", \"Python\"))"
      ],
      "metadata": {
        "colab": {
          "base_uri": "https://localhost:8080/"
        },
        "id": "R_fZ9iwXCKT4",
        "outputId": "05ef91d6-24f0-41cf-9a87-dac5098c4725"
      },
      "execution_count": 17,
      "outputs": [
        {
          "output_type": "stream",
          "name": "stdout",
          "text": [
            "Hello, Python!\n"
          ]
        }
      ]
    },
    {
      "cell_type": "markdown",
      "source": [
        "`strip()`\n",
        "\n",
        "Removes leading and trailing whitespace (or specified characters)."
      ],
      "metadata": {
        "id": "mprd0oViCQN4"
      }
    },
    {
      "cell_type": "code",
      "source": [
        "text = \"   Hello, World!   \"\n",
        "print(text.strip())"
      ],
      "metadata": {
        "colab": {
          "base_uri": "https://localhost:8080/"
        },
        "id": "sLtbJuIWCPiI",
        "outputId": "54e930c9-f3e5-4185-fe88-82f272222601"
      },
      "execution_count": 18,
      "outputs": [
        {
          "output_type": "stream",
          "name": "stdout",
          "text": [
            "Hello, World!\n"
          ]
        }
      ]
    },
    {
      "cell_type": "markdown",
      "source": [
        "`split()`\n",
        "\n",
        "Splits the string into a list of substrings based on a delimiter."
      ],
      "metadata": {
        "id": "iw16KAUcCXnh"
      }
    },
    {
      "cell_type": "code",
      "source": [
        "text = \"Hello, World!\"\n",
        "print(text.split(\",\"))"
      ],
      "metadata": {
        "colab": {
          "base_uri": "https://localhost:8080/"
        },
        "id": "7eOvsz6hCYz0",
        "outputId": "eda398a1-2970-4146-be6d-ad2e7ee6d596"
      },
      "execution_count": 19,
      "outputs": [
        {
          "output_type": "stream",
          "name": "stdout",
          "text": [
            "['Hello', ' World!']\n"
          ]
        }
      ]
    },
    {
      "cell_type": "markdown",
      "source": [
        "`join()`\n",
        "\n",
        "Joins a list of strings into a single string using a specified separator.\n"
      ],
      "metadata": {
        "id": "IhWTzOV5Ccdi"
      }
    },
    {
      "cell_type": "code",
      "source": [
        "words = [\"Hello\", \"World\"]\n",
        "print(\"-\".join(words))"
      ],
      "metadata": {
        "colab": {
          "base_uri": "https://localhost:8080/"
        },
        "id": "oOCdtKGbCdlA",
        "outputId": "53b4e8ee-c1c2-4370-800e-038fea6a1c46"
      },
      "execution_count": 20,
      "outputs": [
        {
          "output_type": "stream",
          "name": "stdout",
          "text": [
            "Hello-World\n"
          ]
        }
      ]
    },
    {
      "cell_type": "markdown",
      "source": [
        "# **4. Formatting Strings**\n",
        "\n",
        "These methods are used to format strings.\n",
        "`format()`\n",
        "\n",
        "Formats a string by replacing placeholders with values."
      ],
      "metadata": {
        "id": "ylRmdyZ5Cl6w"
      }
    },
    {
      "cell_type": "code",
      "source": [
        "name = \"Alice\"\n",
        "age = 25\n",
        "text = \"My name is {} and I am {} years old.\".format(name, age)\n",
        "print(text)"
      ],
      "metadata": {
        "colab": {
          "base_uri": "https://localhost:8080/"
        },
        "id": "wPw33zq8Cqp5",
        "outputId": "aa61cab8-5ed5-4839-c8c7-40ce7373d594"
      },
      "execution_count": 21,
      "outputs": [
        {
          "output_type": "stream",
          "name": "stdout",
          "text": [
            "My name is Alice and I am 25 years old.\n"
          ]
        }
      ]
    },
    {
      "cell_type": "markdown",
      "source": [
        "f-strings (Formatted String Literals)\n",
        "\n",
        "A more modern way to format strings (Python 3.6+)."
      ],
      "metadata": {
        "id": "vI-BLfQjCukI"
      }
    },
    {
      "cell_type": "code",
      "source": [
        "name = \"Alice\"\n",
        "age = 25\n",
        "text = f\"My name is {name} and I am {age} years old.\"\n",
        "print(text)"
      ],
      "metadata": {
        "colab": {
          "base_uri": "https://localhost:8080/"
        },
        "id": "OLrjk8r-Ct6i",
        "outputId": "59252d66-f9f8-4008-c28e-76bf406c7180"
      },
      "execution_count": 22,
      "outputs": [
        {
          "output_type": "stream",
          "name": "stdout",
          "text": [
            "My name is Alice and I am 25 years old.\n"
          ]
        }
      ]
    },
    {
      "cell_type": "markdown",
      "source": [
        "# **5. Checking String Content**\n",
        "\n",
        "These methods are used to check the content of a string.\n",
        "\n",
        "`isalnum()`\n",
        "\n",
        "Checks if all characters in the string are alphanumeric (letters or numbers)."
      ],
      "metadata": {
        "id": "psGuh36ZC41w"
      }
    },
    {
      "cell_type": "code",
      "source": [
        "text = \"Hello123\"\n",
        "print(text.isalnum())"
      ],
      "metadata": {
        "colab": {
          "base_uri": "https://localhost:8080/"
        },
        "id": "8qfLxZSmC7VJ",
        "outputId": "a73850a8-7896-42d0-c06d-c652233f5e17"
      },
      "execution_count": 23,
      "outputs": [
        {
          "output_type": "stream",
          "name": "stdout",
          "text": [
            "True\n"
          ]
        }
      ]
    },
    {
      "cell_type": "markdown",
      "source": [
        "`islower()`\n",
        "\n",
        "Checks if all characters in the string are lowercase."
      ],
      "metadata": {
        "id": "aLABJPm8DACB"
      }
    },
    {
      "cell_type": "code",
      "source": [
        "text = \"hello\"\n",
        "print(text.islower())"
      ],
      "metadata": {
        "colab": {
          "base_uri": "https://localhost:8080/"
        },
        "id": "w2tZ6dEpC_eI",
        "outputId": "5b8252f7-5a48-4f21-c685-511980fc4458"
      },
      "execution_count": 24,
      "outputs": [
        {
          "output_type": "stream",
          "name": "stdout",
          "text": [
            "True\n"
          ]
        }
      ]
    },
    {
      "cell_type": "markdown",
      "source": [
        "`isupper()`\n",
        "\n",
        "Checks if all characters in the string are uppercase."
      ],
      "metadata": {
        "id": "qU_UhFyzDHZZ"
      }
    },
    {
      "cell_type": "code",
      "source": [
        "text = \"HELLO\"\n",
        "print(text.isupper())"
      ],
      "metadata": {
        "colab": {
          "base_uri": "https://localhost:8080/"
        },
        "id": "-VzF7f4-DkGw",
        "outputId": "02c4b96f-1139-425e-b2c1-450074f7202e"
      },
      "execution_count": 25,
      "outputs": [
        {
          "output_type": "stream",
          "name": "stdout",
          "text": [
            "True\n"
          ]
        }
      ]
    },
    {
      "cell_type": "markdown",
      "source": [
        "# **The list of methode :**\n",
        "\n",
        "# **Case Conversion: upper(), lower(), title(), capitalize(), swapcase()**\n",
        "\n",
        "# **Searching and Checking:** find(), index(), count(), startswith(), endswith(), isalpha(), isdigit()\n",
        "\n",
        "# **Modifying Strings:** replace(), strip(), lstrip(), rstrip(), split(), join()\n",
        "\n",
        "# **Formatting Strings: format(), f-strings**\n",
        "\n",
        "# **Checking Content:** isalnum(), isspace(), islower(), isupper()"
      ],
      "metadata": {
        "id": "jleWe_RXDnlp"
      }
    }
  ]
}