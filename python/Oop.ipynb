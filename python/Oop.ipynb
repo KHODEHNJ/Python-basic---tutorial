{
  "cells": [
    {
      "cell_type": "markdown",
      "source": [
        "# **Object-Oriented Programming (OOP) in Python**\n",
        "\n",
        "Object-Oriented Programming (OOP) is a programming paradigm that organizes code into reusable and modular structures called objects. Python, being a versatile and powerful language, fully supports OOP principles. In this article, we’ll explore the core concepts of OOP in Python and how to implement them.\n",
        "What is OOP?\n",
        "\n",
        "OOP is a way of structuring programs by bundling related properties and behaviors into individual objects. These objects are instances of classes, which act as blueprints for creating them. OOP focuses on four main principles:\n",
        "\n",
        "    1-Encapsulation\n",
        "\n",
        "    2-Inheritance\n",
        "\n",
        "    3-Polymorphism\n",
        "\n",
        "    4-Abstraction\n",
        "\n",
        "Let’s dive into each of these concepts with examples in Python.\n",
        "# **1. Classes and Objects**\n",
        "**Class**\n",
        "\n",
        "A class is a blueprint for creating objects. It defines the properties (attributes) and behaviors (methods) that the objects will have."
      ],
      "metadata": {
        "id": "DyTYpDeBOZY1"
      }
    },
    {
      "cell_type": "code",
      "source": [
        "class Dog:\n",
        "\n",
        "    species = \"Canis familiaris\"\n",
        "\n",
        "\n",
        "    def __init__(self, name, age):\n",
        "        self.name = name\n",
        "        self.age = age\n",
        "\n",
        "\n",
        "    def bark(self):\n",
        "        return f\"{self.name} says Woof!\""
      ],
      "metadata": {
        "id": "zJPGf5t5Qf9u"
      },
      "execution_count": 1,
      "outputs": []
    },
    {
      "cell_type": "markdown",
      "source": [
        "**Object**\n",
        "\n",
        "An object is an instance of a class. You can create multiple objects from a single class."
      ],
      "metadata": {
        "id": "0HHuzg72QnLp"
      }
    },
    {
      "cell_type": "code",
      "source": [
        "\n",
        "dog1 = Dog(\"Buddy\", 3)\n",
        "dog2 = Dog(\"Max\", 5)\n",
        "\n",
        "print(dog1.name)\n",
        "print(dog2.bark())\n",
        "print(dog1.species)"
      ],
      "metadata": {
        "id": "w7pyUS6BQumJ",
        "outputId": "c1c42666-dd58-44cf-d113-cc10338cbe6a",
        "colab": {
          "base_uri": "https://localhost:8080/"
        }
      },
      "execution_count": 2,
      "outputs": [
        {
          "output_type": "stream",
          "name": "stdout",
          "text": [
            "Buddy\n",
            "Max says Woof!\n",
            "Canis familiaris\n"
          ]
        }
      ]
    },
    {
      "cell_type": "markdown",
      "source": [
        "# **2. Encapsulation**\n",
        "\n",
        "Encapsulation is the concept of bundling data (attributes) and methods that operate on the data into a single unit (class). It also involves restricting direct access to some of an object’s components, which is achieved using private attributes (prefixed with __)."
      ],
      "metadata": {
        "id": "FqQk6ekqRYxE"
      }
    },
    {
      "cell_type": "code",
      "source": [
        "class BankAccount:\n",
        "    def __init__(self, balance):\n",
        "        self.__balance = balance\n",
        "\n",
        "    def deposit(self, amount):\n",
        "        if amount > 0:\n",
        "            self.__balance += amount\n",
        "\n",
        "    def withdraw(self, amount):\n",
        "        if 0 < amount <= self.__balance:\n",
        "            self.__balance -= amount\n",
        "\n",
        "    def get_balance(self):\n",
        "        return self.__balance\n",
        "\n",
        "\n",
        "account = BankAccount(1000)\n",
        "account.deposit(500)\n",
        "account.withdraw(200)\n",
        "print(account.get_balance())"
      ],
      "metadata": {
        "id": "KdCA99FaRc6E",
        "outputId": "6d375638-3338-4eec-f9e4-5af74242e232",
        "colab": {
          "base_uri": "https://localhost:8080/"
        }
      },
      "execution_count": 3,
      "outputs": [
        {
          "output_type": "stream",
          "name": "stdout",
          "text": [
            "1300\n"
          ]
        }
      ]
    },
    {
      "cell_type": "markdown",
      "source": [
        "# **3. Inheritance**\n",
        "\n",
        "Inheritance allows a class (child class) to inherit attributes and methods from another class (parent class). This promotes code reusability and a hierarchical structure."
      ],
      "metadata": {
        "id": "s6aenli6RmcE"
      }
    },
    {
      "cell_type": "code",
      "source": [
        "\n",
        "class Animal:\n",
        "    def __init__(self, name):\n",
        "        self.name = name\n",
        "\n",
        "    def speak(self):\n",
        "        return \"Some generic sound\"\n",
        "\n",
        "\n",
        "class Cat(Animal):\n",
        "    def speak(self):\n",
        "        return f\"{self.name} says Meow!\"\n",
        "\n",
        "class Dog(Animal):\n",
        "    def speak(self):\n",
        "        return f\"{self.name} says Woof!\"\n",
        "\n",
        "cat = Cat(\"Whiskers\")\n",
        "dog = Dog(\"Buddy\")\n",
        "\n",
        "print(cat.speak())\n",
        "print(dog.speak())"
      ],
      "metadata": {
        "id": "-dCPSQcBRrSl",
        "outputId": "2ef998a1-f66e-48bc-c117-27779b80707a",
        "colab": {
          "base_uri": "https://localhost:8080/"
        }
      },
      "execution_count": 5,
      "outputs": [
        {
          "output_type": "stream",
          "name": "stdout",
          "text": [
            "Whiskers says Meow!\n",
            "Buddy says Woof!\n"
          ]
        }
      ]
    },
    {
      "cell_type": "markdown",
      "source": [
        "# **4. Polymorphism**\n",
        "\n",
        "Polymorphism allows objects of different classes to be treated as objects of a common superclass. It enables methods to behave differently based on the object that calls them."
      ],
      "metadata": {
        "id": "6Y1VKzVgR3b5"
      }
    },
    {
      "cell_type": "code",
      "source": [
        "def animal_sound(animal):\n",
        "    print(animal.speak())\n",
        "\n",
        "\n",
        "animal_sound(cat)\n",
        "animal_sound(dog)"
      ],
      "metadata": {
        "id": "ql0eydR3R3LV",
        "outputId": "f8e2a035-491c-4a80-c2c2-b48f7d548cf9",
        "colab": {
          "base_uri": "https://localhost:8080/"
        }
      },
      "execution_count": 6,
      "outputs": [
        {
          "output_type": "stream",
          "name": "stdout",
          "text": [
            "Whiskers says Meow!\n",
            "Buddy says Woof!\n"
          ]
        }
      ]
    },
    {
      "cell_type": "markdown",
      "source": [
        "# **5. Abstraction**\n",
        "\n",
        "Abstraction is the concept of hiding complex implementation details and exposing only the necessary features of an object. In Python, abstraction is achieved using abstract classes and methods from the abc module."
      ],
      "metadata": {
        "id": "8AhwfAWvSBDk"
      }
    },
    {
      "cell_type": "code",
      "source": [
        "from abc import ABC, abstractmethod\n",
        "\n",
        "class Shape(ABC):\n",
        "    @abstractmethod\n",
        "    def area(self):\n",
        "        pass\n",
        "\n",
        "    @abstractmethod\n",
        "    def perimeter(self):\n",
        "        pass\n",
        "\n",
        "class Circle(Shape):\n",
        "    def __init__(self, radius):\n",
        "        self.radius = radius\n",
        "\n",
        "    def area(self):\n",
        "        return 3.14 * self.radius ** 2\n",
        "\n",
        "    def perimeter(self):\n",
        "        return 2 * 3.14 * self.radius\n",
        "\n",
        "circle = Circle(5)\n",
        "print(circle.area())\n",
        "print(circle.perimeter())"
      ],
      "metadata": {
        "id": "8nb5Z1lbSAVt",
        "outputId": "7b459fb7-3a8b-4913-a510-aa2fbd51b497",
        "colab": {
          "base_uri": "https://localhost:8080/"
        }
      },
      "execution_count": 7,
      "outputs": [
        {
          "output_type": "stream",
          "name": "stdout",
          "text": [
            "78.5\n",
            "31.400000000000002\n"
          ]
        }
      ]
    },
    {
      "cell_type": "markdown",
      "source": [
        "# **Why Use OOP in Python?**\n",
        "\n",
        "Modularity: OOP allows you to break down complex problems into smaller, manageable parts.\n",
        "\n",
        "Reusability: Code can be reused through inheritance and composition.\n",
        "\n",
        "Maintainability: OOP makes code easier to maintain and extend.\n",
        "\n",
        "Scalability: OOP is ideal for large-scale applications.\n",
        "\n",
        "# **Conclusion**\n",
        "\n",
        "Object-Oriented Programming is a powerful paradigm that helps developers write clean, modular, and reusable code. Python’s implementation of OOP is simple yet flexible, making it an excellent choice for both beginners and experienced programmers. By mastering classes, objects, encapsulation, inheritance, polymorphism, and abstraction, you can build robust and scalable applications.\n",
        "\n",
        "This article provides a comprehensive overview of OOP in Python, similar to the structure and depth of the linked notebook. Let me know if you need further clarification or additional examples!"
      ],
      "metadata": {
        "id": "0lWGpKOSSLXs"
      }
    }
  ],
  "metadata": {
    "colab": {
      "name": "Welcome To Colab",
      "provenance": []
    },
    "kernelspec": {
      "display_name": "Python 3",
      "name": "python3"
    }
  },
  "nbformat": 4,
  "nbformat_minor": 0
}
