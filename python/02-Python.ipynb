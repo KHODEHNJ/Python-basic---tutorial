{
  "nbformat": 4,
  "nbformat_minor": 0,
  "metadata": {
    "colab": {
      "provenance": []
    },
    "kernelspec": {
      "name": "python3",
      "display_name": "Python 3"
    },
    "language_info": {
      "name": "python"
    }
  },
  "cells": [
    {
      "cell_type": "markdown",
      "source": [
        "# **A Comprehensive Guide to List Methods in Python**\n",
        "\n",
        "**1. append()**\n",
        "\n",
        "The append() method adds a single element to the end of a list."
      ],
      "metadata": {
        "id": "GlCh-qfiFA9C"
      }
    },
    {
      "cell_type": "code",
      "execution_count": 4,
      "metadata": {
        "colab": {
          "base_uri": "https://localhost:8080/"
        },
        "id": "HZDeHFiVEbZZ",
        "outputId": "3bf673e6-2978-4ce6-d004-00992dead188"
      },
      "outputs": [
        {
          "output_type": "execute_result",
          "data": {
            "text/plain": [
              "[1, 2, 3, 4]"
            ]
          },
          "metadata": {},
          "execution_count": 4
        }
      ],
      "source": [
        "list = [1,2,3]\n",
        "list.append (4)\n",
        "list"
      ]
    },
    {
      "cell_type": "markdown",
      "source": [
        "**2. extend()**\n",
        "\n",
        "The extend() method adds multiple elements (from an iterable) to the end of a list."
      ],
      "metadata": {
        "id": "LUgvE0FhFb15"
      }
    },
    {
      "cell_type": "code",
      "source": [
        "fruits = ['apple', 'banana']\n",
        "fruits.extend(['cherry', 'orange'])\n",
        "print(fruits)"
      ],
      "metadata": {
        "colab": {
          "base_uri": "https://localhost:8080/"
        },
        "id": "Qftt2JffFff6",
        "outputId": "ce88760b-d064-434d-b36b-1c12e44bf0ae"
      },
      "execution_count": 5,
      "outputs": [
        {
          "output_type": "stream",
          "name": "stdout",
          "text": [
            "['apple', 'banana', 'cherry', 'orange']\n"
          ]
        }
      ]
    },
    {
      "cell_type": "markdown",
      "source": [
        "**3. insert()**\n",
        "\n",
        "The insert() method adds an element at a specified position in the list."
      ],
      "metadata": {
        "id": "Ws1pet4EFlug"
      }
    },
    {
      "cell_type": "code",
      "source": [
        "fruits = ['apple', 'banana']\n",
        "fruits.insert(1, 'cherry')\n",
        "print(fruits)"
      ],
      "metadata": {
        "colab": {
          "base_uri": "https://localhost:8080/"
        },
        "id": "6u3vA6qTFynr",
        "outputId": "35b9ed64-c5c7-4cf4-8be5-411400cde38a"
      },
      "execution_count": 8,
      "outputs": [
        {
          "output_type": "stream",
          "name": "stdout",
          "text": [
            "['apple', 'cherry', 'banana']\n"
          ]
        }
      ]
    },
    {
      "cell_type": "markdown",
      "source": [
        "4**. remove()**\n",
        "\n",
        "The remove() method removes the first occurrence of a specified element from the list. If the element is not found, it raises a ValueError."
      ],
      "metadata": {
        "id": "pntA3pPEF2tP"
      }
    },
    {
      "cell_type": "code",
      "source": [
        "fruits = ['apple', 'banana', 'cherry']\n",
        "fruits.remove('banana')\n",
        "print(fruits)"
      ],
      "metadata": {
        "colab": {
          "base_uri": "https://localhost:8080/"
        },
        "id": "QRMH7oedFm5H",
        "outputId": "56238ca4-d6c4-4c76-cda1-44fe6e81e420"
      },
      "execution_count": 7,
      "outputs": [
        {
          "output_type": "stream",
          "name": "stdout",
          "text": [
            "['apple', 'cherry']\n"
          ]
        }
      ]
    },
    {
      "cell_type": "markdown",
      "source": [
        "**5. pop()**\n",
        "\n",
        "The pop() method removes and returns the element at a specified index. If no index is provided, it removes and returns the last element."
      ],
      "metadata": {
        "id": "uBXxWit-GB0x"
      }
    },
    {
      "cell_type": "code",
      "source": [
        "fruits = ['apple', 'banana', 'cherry']\n",
        "popped_fruit = fruits.pop(1)\n",
        "print(popped_fruit)\n",
        "print(fruits)"
      ],
      "metadata": {
        "colab": {
          "base_uri": "https://localhost:8080/"
        },
        "id": "mbekbgpRGDBx",
        "outputId": "42c55047-5662-4d20-a27e-44d5e473b0da"
      },
      "execution_count": 9,
      "outputs": [
        {
          "output_type": "stream",
          "name": "stdout",
          "text": [
            "banana\n",
            "['apple', 'cherry']\n"
          ]
        }
      ]
    },
    {
      "cell_type": "markdown",
      "source": [
        "**6. clear()**\n",
        "\n",
        "The clear() method removes all elements from the list, leaving it empty."
      ],
      "metadata": {
        "id": "GtKTKps6GMKi"
      }
    },
    {
      "cell_type": "code",
      "source": [
        "fruits = ['apple', 'banana', 'cherry']\n",
        "fruits.clear()\n",
        "print(fruits)"
      ],
      "metadata": {
        "colab": {
          "base_uri": "https://localhost:8080/"
        },
        "id": "ejt6ThRSGNoX",
        "outputId": "0ad40d54-54d8-407f-e0d4-e209865d6c0b"
      },
      "execution_count": 10,
      "outputs": [
        {
          "output_type": "stream",
          "name": "stdout",
          "text": [
            "[]\n"
          ]
        }
      ]
    },
    {
      "cell_type": "markdown",
      "source": [
        "7**. index()**\n",
        "\n",
        "The index() method returns the index of the first occurrence of a specified element. If the element is not found, it raises a ValueError."
      ],
      "metadata": {
        "id": "cEn7XyuOGPhv"
      }
    },
    {
      "cell_type": "code",
      "source": [
        "fruits = ['apple', 'banana', 'cherry']\n",
        "index = fruits.index('banana')\n",
        "print(index)"
      ],
      "metadata": {
        "colab": {
          "base_uri": "https://localhost:8080/"
        },
        "id": "tEz2BXMeGSRI",
        "outputId": "899363f9-eb64-4e2c-b32d-789ea5c55713"
      },
      "execution_count": 11,
      "outputs": [
        {
          "output_type": "stream",
          "name": "stdout",
          "text": [
            "1\n"
          ]
        }
      ]
    },
    {
      "cell_type": "markdown",
      "source": [
        "8. count()\n",
        "**bold text**\n",
        "The count() method returns the number of times a specified element appears in the list."
      ],
      "metadata": {
        "id": "PTa4A2bgGWj6"
      }
    },
    {
      "cell_type": "code",
      "source": [
        "fruits = ['apple', 'banana', 'cherry', 'banana']\n",
        "count = fruits.count('banana')\n",
        "print(count)"
      ],
      "metadata": {
        "colab": {
          "base_uri": "https://localhost:8080/"
        },
        "id": "Jj4J7O1aGX7f",
        "outputId": "99fc69ba-2444-4bfb-cd22-a4058ac01b40"
      },
      "execution_count": 12,
      "outputs": [
        {
          "output_type": "stream",
          "name": "stdout",
          "text": [
            "2\n"
          ]
        }
      ]
    },
    {
      "cell_type": "markdown",
      "source": [
        "**9. sort()**\n",
        "\n",
        "The sort() method sorts the elements of the list in ascending order (or another order specified by the key and reverse parameters)."
      ],
      "metadata": {
        "id": "OicMf21NGeJS"
      }
    },
    {
      "cell_type": "code",
      "source": [
        "numbers = [3, 1, 4, 1, 5, 9]\n",
        "numbers.sort()\n",
        "print(numbers)"
      ],
      "metadata": {
        "colab": {
          "base_uri": "https://localhost:8080/"
        },
        "id": "lpj0AmtsGda3",
        "outputId": "40d19ad1-4b22-4696-e974-c6e2a0194464"
      },
      "execution_count": 13,
      "outputs": [
        {
          "output_type": "stream",
          "name": "stdout",
          "text": [
            "[1, 1, 3, 4, 5, 9]\n"
          ]
        }
      ]
    },
    {
      "cell_type": "markdown",
      "source": [
        "**10. reverse()**\n",
        "\n",
        "The reverse() method reverses the order of elements in the list."
      ],
      "metadata": {
        "id": "WWo8OGcsGlCT"
      }
    },
    {
      "cell_type": "code",
      "source": [
        "fruits = ['apple', 'banana', 'cherry']\n",
        "fruits.reverse()\n",
        "print(fruits)"
      ],
      "metadata": {
        "colab": {
          "base_uri": "https://localhost:8080/"
        },
        "id": "ZAGwICTvGmDf",
        "outputId": "86e4c9ab-bc7c-401d-cefb-3e7f489d5a8e"
      },
      "execution_count": 14,
      "outputs": [
        {
          "output_type": "stream",
          "name": "stdout",
          "text": [
            "['cherry', 'banana', 'apple']\n"
          ]
        }
      ]
    },
    {
      "cell_type": "markdown",
      "source": [
        "**11. copy()**\n",
        "\n",
        "The copy() method returns a shallow copy of the list. This is useful for creating a new list with the same elements as the original."
      ],
      "metadata": {
        "id": "Dy6J0u_FGpj5"
      }
    },
    {
      "cell_type": "code",
      "source": [
        "fruits = ['apple', 'banana', 'cherry']\n",
        "fruits_copy = fruits.copy()\n",
        "print(fruits_copy)"
      ],
      "metadata": {
        "colab": {
          "base_uri": "https://localhost:8080/"
        },
        "id": "M7LV53v1Gs_4",
        "outputId": "858d4c31-24a9-4e2d-8f9e-3744886433cc"
      },
      "execution_count": 15,
      "outputs": [
        {
          "output_type": "stream",
          "name": "stdout",
          "text": [
            "['apple', 'banana', 'cherry']\n"
          ]
        }
      ]
    }
  ]
}