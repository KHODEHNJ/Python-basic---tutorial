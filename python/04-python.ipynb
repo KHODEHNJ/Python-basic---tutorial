{
  "cells": [
    {
      "cell_type": "markdown",
      "source": [
        "# **What is a Tuple?**\n",
        "\n",
        "A tuple is an ordered, immutable collection of elements enclosed in parentheses (). For example:\n",
        "\n",
        "`my_tuple = (1, 2, 3, \"apple\", \"banana\")`\n",
        "\n",
        "Tuples are commonly used for:\n",
        "\n",
        "    Storing related data (e.g., coordinates, database records).\n",
        "\n",
        "    Returning multiple values from a function.\n",
        "\n",
        "    Ensuring data integrity (since they are immutable).\n",
        "\n",
        "\n",
        "# **Tuple Methods in Python**\n",
        "\n",
        "Since tuples are immutable, they have fewer built-in methods compared to lists. However, Python provides a few essential methods to work with tuples. Let’s explore them:\n",
        "\n",
        "1.`count()`\n",
        "\n",
        "The count() method returns the number of times a specified value appears in the tuple."
      ],
      "metadata": {
        "id": "WACqVuFnbe7K"
      }
    },
    {
      "cell_type": "code",
      "source": [
        "my_tuple = (1, 2, 3, 2, 4, 2)\n",
        "count_of_2 = my_tuple.count(2)\n",
        "print(count_of_2)"
      ],
      "metadata": {
        "id": "TCAHBfpoa9kh",
        "outputId": "0d8b328c-09a0-488c-e098-b898567d7daf",
        "colab": {
          "base_uri": "https://localhost:8080/"
        }
      },
      "execution_count": 9,
      "outputs": [
        {
          "output_type": "stream",
          "name": "stdout",
          "text": [
            "3\n"
          ]
        }
      ]
    },
    {
      "cell_type": "markdown",
      "source": [
        "2. `index()`\n",
        "\n",
        "The index() method returns the index of the first occurrence of a specified value in the tuple. If the value is not found, it raises a ValueError."
      ],
      "metadata": {
        "id": "VX3YD-pldCxJ"
      }
    },
    {
      "cell_type": "code",
      "source": [
        "my_tuple = (10, 20, 30, 20, 40)\n",
        "index_of_20 = my_tuple.index(20)\n",
        "print(index_of_20)"
      ],
      "metadata": {
        "id": "-8eWssFndP6Q",
        "outputId": "68e374cd-5030-413b-cc57-16e45d7a5980",
        "colab": {
          "base_uri": "https://localhost:8080/"
        }
      },
      "execution_count": 10,
      "outputs": [
        {
          "output_type": "stream",
          "name": "stdout",
          "text": [
            "1\n"
          ]
        }
      ]
    },
    {
      "cell_type": "markdown",
      "source": [
        "3. `len()`\n",
        "\n",
        "Although not a method, the len() function is commonly used with tuples to determine the number of elements in the tuple."
      ],
      "metadata": {
        "id": "PGUY90-KfbeH"
      }
    },
    {
      "cell_type": "code",
      "source": [
        "my_tuple = (1, 2, 3, 4, 5)\n",
        "length = len(my_tuple)\n",
        "print(length)"
      ],
      "metadata": {
        "id": "GQAJZkyNferf",
        "outputId": "8f3b8d6d-151a-41c2-a5b0-aba3b456afeb",
        "colab": {
          "base_uri": "https://localhost:8080/"
        }
      },
      "execution_count": 11,
      "outputs": [
        {
          "output_type": "stream",
          "name": "stdout",
          "text": [
            "5\n"
          ]
        }
      ]
    },
    {
      "cell_type": "markdown",
      "source": [
        "4. `min() and max()`\n",
        "\n",
        "These functions return the minimum and maximum values in a tuple, respectively."
      ],
      "metadata": {
        "id": "U7Qtu2vKfm9V"
      }
    },
    {
      "cell_type": "code",
      "source": [
        "my_tuple = (10, 20, 30, 40)\n",
        "print(min(my_tuple))\n",
        "print(max(my_tuple))"
      ],
      "metadata": {
        "id": "kmrAsLR4fq5h",
        "outputId": "f6956126-66a8-41eb-be8d-ef9cb56d1326",
        "colab": {
          "base_uri": "https://localhost:8080/"
        }
      },
      "execution_count": 12,
      "outputs": [
        {
          "output_type": "stream",
          "name": "stdout",
          "text": [
            "10\n",
            "40\n"
          ]
        }
      ]
    },
    {
      "cell_type": "markdown",
      "source": [
        "5. Membership Testing\n",
        "\n",
        "You can check if an element exists in a tuple using the in keyword."
      ],
      "metadata": {
        "id": "xYK4cyMVgM16"
      }
    },
    {
      "cell_type": "code",
      "source": [
        "my_tuple = (10, 20, 30, 40)\n",
        "print(20 in my_tuple)\n",
        "print(50 in my_tuple)"
      ],
      "metadata": {
        "id": "a4fqg8b4gO34",
        "outputId": "95004501-3d04-47b1-8436-9be83799794f",
        "colab": {
          "base_uri": "https://localhost:8080/"
        }
      },
      "execution_count": 13,
      "outputs": [
        {
          "output_type": "stream",
          "name": "stdout",
          "text": [
            "True\n",
            "False\n"
          ]
        }
      ]
    }
  ],
  "metadata": {
    "colab": {
      "name": "Welcome To Colab",
      "provenance": []
    },
    "kernelspec": {
      "display_name": "Python 3",
      "name": "python3"
    }
  },
  "nbformat": 4,
  "nbformat_minor": 0
}