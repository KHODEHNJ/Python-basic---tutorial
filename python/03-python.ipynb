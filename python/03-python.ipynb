{
  "cells": [
    {
      "cell_type": "markdown",
      "source": [
        "# **Sets and Set Methods in Python: A Comprehensive Guide with Examples**\n",
        "\n",
        "Sets are one of Python's built-in data types used to store collections of unique and unordered elements. They are particularly useful for tasks that involve membership testing, removing duplicates, and performing mathematical set operations like union, intersection, and difference. In this article, we’ll explore what sets are, how to create them, and the most commonly used set methods in Python, along with practical examples.\n",
        "# What is a Set in Python?\n",
        "\n",
        "A set is an unordered collection of unique elements. This means:\n",
        "\n",
        "**Unordered**: The elements in a set do not have a specific order.\n",
        "\n",
        "**Unique**: A set cannot contain duplicate elements.\n",
        "\n",
        "Sets are defined using curly braces {} or the set() constructor. However, creating an empty set requires the set() constructor, as {} creates an empty dictionary.\n",
        "# Creating Sets\n",
        "**Creating a Set with Elements**\n"
      ],
      "metadata": {
        "id": "cxxFlKT9eAVz"
      }
    },
    {
      "cell_type": "code",
      "source": [
        "fruits = {\"apple\", \"banana\", \"cherry\"}\n",
        "print(fruits)"
      ],
      "metadata": {
        "id": "IvQJeLbmeUSg",
        "outputId": "465f8d52-547b-45bb-9235-749827226aff",
        "colab": {
          "base_uri": "https://localhost:8080/"
        }
      },
      "execution_count": 1,
      "outputs": [
        {
          "output_type": "stream",
          "name": "stdout",
          "text": [
            "{'cherry', 'apple', 'banana'}\n"
          ]
        }
      ]
    },
    {
      "cell_type": "markdown",
      "source": [
        "**Creating an Empty Set**"
      ],
      "metadata": {
        "id": "Uu7KsOiPeYFV"
      }
    },
    {
      "cell_type": "code",
      "source": [
        "empty_set = set()\n",
        "print(empty_set)"
      ],
      "metadata": {
        "id": "v4B5bgC0eipu",
        "outputId": "07b20d42-76d6-42bb-d1f7-9af2322c4671",
        "colab": {
          "base_uri": "https://localhost:8080/"
        }
      },
      "execution_count": 2,
      "outputs": [
        {
          "output_type": "stream",
          "name": "stdout",
          "text": [
            "set()\n"
          ]
        }
      ]
    },
    {
      "cell_type": "markdown",
      "source": [
        "**Creating a Set from a List**\n",
        "\n",
        "You can convert a list (or any iterable) into a set to remove duplicates."
      ],
      "metadata": {
        "id": "P0aUPqIQepK-"
      }
    },
    {
      "cell_type": "code",
      "source": [
        "numbers = [1, 2, 2, 3, 4, 4, 5]\n",
        "unique_numbers = set(numbers)\n",
        "print(unique_numbers)"
      ],
      "metadata": {
        "id": "gU7tXxe7evCO",
        "outputId": "6d43a316-7e69-4939-97f7-af8ee66064d9",
        "colab": {
          "base_uri": "https://localhost:8080/"
        }
      },
      "execution_count": 3,
      "outputs": [
        {
          "output_type": "stream",
          "name": "stdout",
          "text": [
            "{1, 2, 3, 4, 5}\n"
          ]
        }
      ]
    },
    {
      "cell_type": "markdown",
      "source": [
        "# **Key Characteristics of Sets**\n",
        "\n",
        "**Unordered**: Sets do not maintain the order of elements.\n",
        "\n",
        "**Mutable**: You can add or remove elements from a set.\n",
        "\n",
        "**Unique Elements**: Sets automatically remove duplicate values.\n",
        "\n",
        "**Heterogeneous**: Sets can contain elements of different data types (e.g., integers, strings, etc.).\n",
        "\n",
        "# Common Set Methods\n",
        "\n",
        "Python provides a variety of methods to work with sets. Below are the most commonly used ones.\n",
        "\n",
        "1. Adding Elements\n",
        "\n",
        "`add()`\n",
        "\n",
        "Adds a single element to the set."
      ],
      "metadata": {
        "id": "lQ_hgnBaex7J"
      }
    },
    {
      "cell_type": "code",
      "source": [
        "fruits = {\"apple\", \"banana\"}\n",
        "fruits.add(\"cherry\")\n",
        "print(fruits)"
      ],
      "metadata": {
        "id": "PKyqkSesfMyF",
        "outputId": "7bf71e51-64f3-48a1-ed99-3346220ce206",
        "colab": {
          "base_uri": "https://localhost:8080/"
        }
      },
      "execution_count": 4,
      "outputs": [
        {
          "output_type": "stream",
          "name": "stdout",
          "text": [
            "{'cherry', 'apple', 'banana'}\n"
          ]
        }
      ]
    },
    {
      "cell_type": "markdown",
      "source": [
        "`update()`\n",
        "\n",
        "Adds multiple elements to the set. It takes an iterable (e.g., list, tuple, or another set) as an argument."
      ],
      "metadata": {
        "id": "Jq3NioYwfRfn"
      }
    },
    {
      "cell_type": "code",
      "source": [
        "fruits = {\"apple\", \"banana\"}\n",
        "fruits.update([\"cherry\", \"orange\"])\n",
        "print(fruits)"
      ],
      "metadata": {
        "id": "ZxvvPAMQfUIm",
        "outputId": "1790891a-be8f-46e1-afaa-aac840e69c73",
        "colab": {
          "base_uri": "https://localhost:8080/"
        }
      },
      "execution_count": 5,
      "outputs": [
        {
          "output_type": "stream",
          "name": "stdout",
          "text": [
            "{'cherry', 'apple', 'banana', 'orange'}\n"
          ]
        }
      ]
    },
    {
      "cell_type": "markdown",
      "source": [
        "**2. Removing Elements**\n",
        "\n",
        "`remove()`\n",
        "\n",
        "Removes a specific element from the set. Raises a KeyError if the element is not found."
      ],
      "metadata": {
        "id": "wr3aDEUnfY1_"
      }
    },
    {
      "cell_type": "code",
      "source": [
        "fruits = {\"apple\", \"banana\", \"cherry\"}\n",
        "fruits.remove(\"banana\")\n",
        "print(fruits)"
      ],
      "metadata": {
        "id": "_dgOJYKAfeYv",
        "outputId": "7ae2535e-dc6d-4f51-dbf5-5ade7be9ffed",
        "colab": {
          "base_uri": "https://localhost:8080/"
        }
      },
      "execution_count": 6,
      "outputs": [
        {
          "output_type": "stream",
          "name": "stdout",
          "text": [
            "{'cherry', 'apple'}\n"
          ]
        }
      ]
    },
    {
      "cell_type": "markdown",
      "source": [
        "`discard()`\n",
        "\n",
        "Removes a specific element from the set if it exists. Does not raise an error if the element is not found."
      ],
      "metadata": {
        "id": "4r5dNa6Rfoyx"
      }
    },
    {
      "cell_type": "code",
      "source": [
        "fruits = {\"apple\", \"banana\", \"cherry\"}\n",
        "fruits.discard(\"banana\")\n",
        "print(fruits)"
      ],
      "metadata": {
        "id": "1v4zN57XfptO",
        "outputId": "9e905364-b4a7-4474-acaf-549e77184055",
        "colab": {
          "base_uri": "https://localhost:8080/"
        }
      },
      "execution_count": 7,
      "outputs": [
        {
          "output_type": "stream",
          "name": "stdout",
          "text": [
            "{'cherry', 'apple'}\n"
          ]
        }
      ]
    },
    {
      "cell_type": "markdown",
      "source": [
        "`pop()`\n",
        "\n",
        "Removes and returns an arbitrary element from the set. Raises a KeyError if the set is empty."
      ],
      "metadata": {
        "id": "oCl0rSNcftxu"
      }
    },
    {
      "cell_type": "code",
      "source": [
        "fruits = {\"apple\", \"banana\", \"cherry\"}\n",
        "removed_fruit = fruits.pop()\n",
        "print(removed_fruit)\n",
        "print(fruits)"
      ],
      "metadata": {
        "id": "2cjUk4BGfwT2",
        "outputId": "df1d3b5c-c9b8-4671-c2d4-72f049599f53",
        "colab": {
          "base_uri": "https://localhost:8080/"
        }
      },
      "execution_count": 8,
      "outputs": [
        {
          "output_type": "stream",
          "name": "stdout",
          "text": [
            "cherry\n",
            "{'apple', 'banana'}\n"
          ]
        }
      ]
    },
    {
      "cell_type": "markdown",
      "source": [
        "`clear()`\n",
        "\n",
        "Removes all elements from the set, making it empty."
      ],
      "metadata": {
        "id": "yp3rLAJPf85H"
      }
    },
    {
      "cell_type": "markdown",
      "source": [
        "**3. Set Operations**\n",
        "\n",
        "`union()`\n",
        "\n",
        "Returns a new set containing all elements from both sets."
      ],
      "metadata": {
        "id": "ywnh4hK_gAVn"
      }
    },
    {
      "cell_type": "code",
      "source": [
        "set1 = {1, 2, 3}\n",
        "set2 = {3, 4, 5}\n",
        "result = set1.union(set2)\n",
        "print(result)"
      ],
      "metadata": {
        "id": "kiZo0jhOgG4y",
        "outputId": "3c4b1f64-aee9-4c62-aa5f-eb23c711b195",
        "colab": {
          "base_uri": "https://localhost:8080/"
        }
      },
      "execution_count": 9,
      "outputs": [
        {
          "output_type": "stream",
          "name": "stdout",
          "text": [
            "{1, 2, 3, 4, 5}\n"
          ]
        }
      ]
    },
    {
      "cell_type": "markdown",
      "source": [
        "`intersection()`\n",
        "\n",
        "Returns a new set containing only the elements common to both sets.\n",
        "python\n"
      ],
      "metadata": {
        "id": "AFzKqpSMgLC2"
      }
    },
    {
      "cell_type": "code",
      "source": [
        "set1 = {1, 2, 3}\n",
        "set2 = {3, 4, 5}\n",
        "result = set1.intersection(set2)\n",
        "print(result)"
      ],
      "metadata": {
        "id": "0krDUzcogL6g",
        "outputId": "103cb363-5653-4600-c809-6d85624ef61b",
        "colab": {
          "base_uri": "https://localhost:8080/"
        }
      },
      "execution_count": 10,
      "outputs": [
        {
          "output_type": "stream",
          "name": "stdout",
          "text": [
            "{3}\n"
          ]
        }
      ]
    },
    {
      "cell_type": "markdown",
      "source": [
        "`difference()`\n",
        "\n",
        "Returns a new set containing elements in the first set but not in the second set."
      ],
      "metadata": {
        "id": "y6JHyCWAgRGw"
      }
    },
    {
      "cell_type": "code",
      "source": [
        "set1 = {1, 2, 3}\n",
        "set2 = {3, 4, 5}\n",
        "result = set1.difference(set2)\n",
        "print(result)"
      ],
      "metadata": {
        "id": "WfqbPjfygTWo",
        "outputId": "d4d7333e-4f27-4213-8a08-eef9c603c02a",
        "colab": {
          "base_uri": "https://localhost:8080/"
        }
      },
      "execution_count": 11,
      "outputs": [
        {
          "output_type": "stream",
          "name": "stdout",
          "text": [
            "{1, 2}\n"
          ]
        }
      ]
    },
    {
      "cell_type": "markdown",
      "source": [
        "`symmetric_difference()`\n",
        "\n",
        "Returns a new set containing elements that are in either of the sets but not in both."
      ],
      "metadata": {
        "id": "l-vv1WrrgX0B"
      }
    },
    {
      "cell_type": "code",
      "source": [
        "set1 = {1, 2, 3}\n",
        "set2 = {3, 4, 5}\n",
        "result = set1.symmetric_difference(set2)\n",
        "print(result)"
      ],
      "metadata": {
        "id": "Q3p9MDf4ganP",
        "outputId": "3236185d-df6b-479b-e398-01eb12f493f6",
        "colab": {
          "base_uri": "https://localhost:8080/"
        }
      },
      "execution_count": 12,
      "outputs": [
        {
          "output_type": "stream",
          "name": "stdout",
          "text": [
            "{1, 2, 4, 5}\n"
          ]
        }
      ]
    },
    {
      "cell_type": "markdown",
      "source": [
        "**4. Checking Relationships Between Sets**\n",
        "\n",
        "`issubset()`\n",
        "\n",
        "Checks if all elements of a set are present in another set."
      ],
      "metadata": {
        "id": "u86EVDBigds2"
      }
    },
    {
      "cell_type": "code",
      "source": [
        "set1 = {1, 2}\n",
        "set2 = {1, 2, 3, 4}\n",
        "print(set1.issubset(set2))"
      ],
      "metadata": {
        "id": "0uqUJWPdgh2z",
        "outputId": "a7bff48a-a277-4291-d100-326c2005cb25",
        "colab": {
          "base_uri": "https://localhost:8080/"
        }
      },
      "execution_count": 13,
      "outputs": [
        {
          "output_type": "stream",
          "name": "stdout",
          "text": [
            "True\n"
          ]
        }
      ]
    },
    {
      "cell_type": "markdown",
      "source": [
        "`issuperset()`\n",
        "\n",
        "Checks if a set contains all elements of another set."
      ],
      "metadata": {
        "id": "81L2-OiUgmZZ"
      }
    },
    {
      "cell_type": "code",
      "source": [
        "set1 = {1, 2, 3, 4}\n",
        "set2 = {1, 2}\n",
        "print(set1.issuperset(set2))"
      ],
      "metadata": {
        "id": "vZ7u3Myxgo0-",
        "outputId": "33b0329c-5440-4a9f-977a-e4674850ef07",
        "colab": {
          "base_uri": "https://localhost:8080/"
        }
      },
      "execution_count": 14,
      "outputs": [
        {
          "output_type": "stream",
          "name": "stdout",
          "text": [
            "True\n"
          ]
        }
      ]
    },
    {
      "cell_type": "markdown",
      "source": [
        "**5. Copying Sets**\n",
        "\n",
        "`copy()`\n",
        "\n",
        "Returns a shallow copy of the set."
      ],
      "metadata": {
        "id": "Zz43ShJNgzre"
      }
    },
    {
      "cell_type": "code",
      "source": [
        "fruits = {\"apple\", \"banana\", \"cherry\"}\n",
        "fruits_copy = fruits.copy()\n",
        "print(fruits_copy)"
      ],
      "metadata": {
        "id": "48Yq4uS4g2P-",
        "outputId": "6db4d321-5b55-4fd7-e788-9df399d7334b",
        "colab": {
          "base_uri": "https://localhost:8080/"
        }
      },
      "execution_count": 15,
      "outputs": [
        {
          "output_type": "stream",
          "name": "stdout",
          "text": [
            "{'cherry', 'apple', 'banana'}\n"
          ]
        }
      ]
    }
  ],
  "metadata": {
    "colab": {
      "name": "Welcome To Colab",
      "provenance": []
    },
    "kernelspec": {
      "display_name": "Python 3",
      "name": "python3"
    }
  },
  "nbformat": 4,
  "nbformat_minor": 0
}