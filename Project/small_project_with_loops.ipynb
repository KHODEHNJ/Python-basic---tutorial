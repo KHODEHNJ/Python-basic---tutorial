{
  "nbformat": 4,
  "nbformat_minor": 0,
  "metadata": {
    "colab": {
      "provenance": []
    },
    "kernelspec": {
      "name": "python3",
      "display_name": "Python 3"
    },
    "language_info": {
      "name": "python"
    }
  },
  "cells": [
    {
      "cell_type": "markdown",
      "source": [
        "# Small project with loops"
      ],
      "metadata": {
        "id": "Q_8A4xCoIQmi"
      }
    },
    {
      "cell_type": "code",
      "source": [
        "# Sum of even numbers\n",
        "while True:\n",
        "    num = int(input(\"Enter a positive number to sum its even numbers (or a negative number to exit): \"))\n",
        "\n",
        "    if num < 0:\n",
        "        print(\"Exiting the program.\")\n",
        "        break\n",
        "\n",
        "    total_sum = 0\n",
        "    for i in range(1, num + 1):\n",
        "        if i % 2 == 0:\n",
        "            total_sum += i\n",
        "\n",
        "    print(f\"The sum of even numbers from 1 to {num} is: {total_sum}\")\n",
        "    break"
      ],
      "metadata": {
        "colab": {
          "base_uri": "https://localhost:8080/"
        },
        "id": "0XqFRmIZIQOp",
        "outputId": "9ed72893-cd19-4457-899d-ee4764772fee"
      },
      "execution_count": 4,
      "outputs": [
        {
          "output_type": "stream",
          "name": "stdout",
          "text": [
            "Enter a positive number to sum its even numbers (or a negative number to exit): 3\n",
            "The sum of even numbers from 1 to 3 is: 2\n"
          ]
        }
      ]
    },
    {
      "cell_type": "code",
      "source": [
        "# Countdown timer\n",
        "seconds = int(input(\"Enter the number of seconds for the countdown: \"))\n",
        "while seconds >= 0:\n",
        "    print(seconds)\n",
        "    seconds -= 1"
      ],
      "metadata": {
        "colab": {
          "base_uri": "https://localhost:8080/"
        },
        "id": "Jr0sassFIxNj",
        "outputId": "f56148de-6b0c-4dd9-9d4d-ce388fbb5291"
      },
      "execution_count": 5,
      "outputs": [
        {
          "output_type": "stream",
          "name": "stdout",
          "text": [
            "Enter the number of seconds for the countdown: 6\n",
            "6\n",
            "5\n",
            "4\n",
            "3\n",
            "2\n",
            "1\n",
            "0\n"
          ]
        }
      ]
    },
    {
      "cell_type": "code",
      "source": [
        "# Multiplication Table\n",
        "num = int(input(\"Enter a number to generate its multiplication table: \"))\n",
        "\n",
        "print(f\"Multiplication Table for {num}:\")\n",
        "for i in range(1, 11):\n",
        "    print(f\"{num} x {i} = {num * i}\")"
      ],
      "metadata": {
        "colab": {
          "base_uri": "https://localhost:8080/"
        },
        "id": "qkbMHegNI9T3",
        "outputId": "33713701-b6bb-4052-99c4-a75c00d00176"
      },
      "execution_count": 6,
      "outputs": [
        {
          "output_type": "stream",
          "name": "stdout",
          "text": [
            "Enter a number to generate its multiplication table: 3\n",
            "Multiplication Table for 3:\n",
            "3 x 1 = 3\n",
            "3 x 2 = 6\n",
            "3 x 3 = 9\n",
            "3 x 4 = 12\n",
            "3 x 5 = 15\n",
            "3 x 6 = 18\n",
            "3 x 7 = 21\n",
            "3 x 8 = 24\n",
            "3 x 9 = 27\n",
            "3 x 10 = 30\n"
          ]
        }
      ]
    },
    {
      "cell_type": "code",
      "source": [
        "# Number Guessing Game\n",
        "import random\n",
        "\n",
        "# Random number between 1 and 10\n",
        "target_number = random.randint(1, 10)\n",
        "guess = None\n",
        "\n",
        "while guess != target_number:\n",
        "    guess = int(input(\"Guess a number between 1 and 10: \"))\n",
        "\n",
        "    if guess < target_number:\n",
        "        print(\"Too low! Try again.\")\n",
        "    elif guess > target_number:\n",
        "        print(\"Too high! Try again.\")\n",
        "    else:\n",
        "        print(\"Congratulations! You've guessed the correct number.\")\n"
      ],
      "metadata": {
        "colab": {
          "base_uri": "https://localhost:8080/"
        },
        "id": "710vXKelJH7A",
        "outputId": "bd412d94-d4a7-475a-ab47-f156921af7c7"
      },
      "execution_count": 7,
      "outputs": [
        {
          "output_type": "stream",
          "name": "stdout",
          "text": [
            "Guess a number between 1 and 10: 4\n",
            "Too high! Try again.\n",
            "Guess a number between 1 and 10: 2\n",
            "Too low! Try again.\n",
            "Guess a number between 1 and 10: 3\n",
            "Congratulations! You've guessed the correct number.\n"
          ]
        }
      ]
    }
  ]
}
