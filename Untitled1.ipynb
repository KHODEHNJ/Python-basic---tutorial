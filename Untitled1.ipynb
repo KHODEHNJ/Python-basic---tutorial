{
  "nbformat": 4,
  "nbformat_minor": 0,
  "metadata": {
    "colab": {
      "provenance": []
    },
    "kernelspec": {
      "name": "python3",
      "display_name": "Python 3"
    },
    "language_info": {
      "name": "python"
    }
  },
  "cells": [
    {
      "cell_type": "markdown",
      "source": [
        "# **Python**"
      ],
      "metadata": {
        "id": "URT96F1Wrnci"
      }
    },
    {
      "cell_type": "markdown",
      "source": [
        "# **salam **\n"
      ],
      "metadata": {
        "id": "8r4JN_tLGhAT"
      }
    },
    {
      "cell_type": "code",
      "source": [
        "print(\"nima\")"
      ],
      "metadata": {
        "id": "Bvcu_GhbGlfx"
      },
      "execution_count": null,
      "outputs": []
    }
  ]
}