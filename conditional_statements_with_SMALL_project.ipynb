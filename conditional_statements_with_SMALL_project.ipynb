{
  "nbformat": 4,
  "nbformat_minor": 0,
  "metadata": {
    "colab": {
      "provenance": []
    },
    "kernelspec": {
      "name": "python3",
      "display_name": "Python 3"
    },
    "language_info": {
      "name": "python"
    }
  },
  "cells": [
    {
      "cell_type": "markdown",
      "source": [
        "# Conditions\n",
        "Some small project of coditional statements:"
      ],
      "metadata": {
        "id": "FgD674Vl_q_g"
      }
    },
    {
      "cell_type": "code",
      "source": [
        "password  = input(\"enter your password: \\n\")\n",
        "if len(password) <8:\n",
        "    print(\"your password is too short\")\n",
        "elif len(password) > 12:\n",
        "  print(\"your password is too long\")\n",
        "else:\n",
        "  print(\"your password is good\")"
      ],
      "metadata": {
        "colab": {
          "base_uri": "https://localhost:8080/"
        },
        "id": "dx_gELDo_XGx",
        "outputId": "b7117a3e-55bf-4b4d-db02-251fc456067b"
      },
      "execution_count": 6,
      "outputs": [
        {
          "output_type": "stream",
          "name": "stdout",
          "text": [
            "enter your password: \n",
            "33\n",
            "your password is too short\n"
          ]
        }
      ]
    },
    {
      "cell_type": "code",
      "source": [
        "number = float(input(\"enter a number : \\n\"))\n",
        "\n",
        "if number > 0:\n",
        "  print(\"the number is positive\")\n",
        "elif number < 0:\n",
        "  print(\"the number is negative\")\n",
        "else:\n",
        "  print(\"the number is zero\")"
      ],
      "metadata": {
        "id": "BkhNwNe3AzCz",
        "outputId": "ab520f8a-cb79-469b-8f3f-906672429afc",
        "colab": {
          "base_uri": "https://localhost:8080/"
        }
      },
      "execution_count": 7,
      "outputs": [
        {
          "output_type": "stream",
          "name": "stdout",
          "text": [
            "enter a number : \n",
            "33\n",
            "the number is positive\n"
          ]
        }
      ]
    },
    {
      "cell_type": "code",
      "source": [
        "age = int(input(\"enter your age: \\n\"))\n",
        "if age >= 18:\n",
        "  print(\"you are an adult\")\n",
        "elif age >= 13:\n",
        "  print(\"you are a teenager\")\n",
        "else:\n",
        "  print(\"you are a child\")"
      ],
      "metadata": {
        "id": "DtF-G7asBEmB",
        "outputId": "c6e5800f-8d43-4885-a396-56c50968d4cc",
        "colab": {
          "base_uri": "https://localhost:8080/"
        }
      },
      "execution_count": 8,
      "outputs": [
        {
          "output_type": "stream",
          "name": "stdout",
          "text": [
            "enter your age: \n",
            "5\n",
            "you are a child\n"
          ]
        }
      ]
    },
    {
      "cell_type": "code",
      "source": [
        "score = float(input('enter your score: \\n'))\n",
        "\n",
        "if score >= 90:\n",
        "  print(\"your grade is A\")\n",
        "elif score >= 80:\n",
        "  print(\"your grade is B\")\n",
        "elif score >= 70:\n",
        "  print(\"your grade is C\")"
      ],
      "metadata": {
        "id": "SC_mKKWpBQMI",
        "outputId": "8b90e61b-6ba6-41e2-f38a-a0427e400b0b",
        "colab": {
          "base_uri": "https://localhost:8080/"
        }
      },
      "execution_count": 12,
      "outputs": [
        {
          "output_type": "stream",
          "name": "stdout",
          "text": [
            "enter your score: \n",
            "90\n",
            "your grade is A\n"
          ]
        }
      ]
    },
    {
      "cell_type": "code",
      "source": [
        "price = float(input(\"enter the price: \\n\"))\n",
        "discount_perc = float(input(\"enter the discount percentage: \\n\"))\n",
        "\n",
        "if discount_perc > 100 or discount_perc < 0:\n",
        "  print(\"invalid discount percentage\")\n",
        "else:\n",
        "  discount_amount = price * discount_perc / 100\n",
        "  new_price = price - discount_amount\n",
        "  print(f\"new price is {new_price}\")"
      ],
      "metadata": {
        "id": "VebiKP7HBoLf",
        "outputId": "e2907227-d224-4770-82a2-8e9a464aac77",
        "colab": {
          "base_uri": "https://localhost:8080/"
        }
      },
      "execution_count": 13,
      "outputs": [
        {
          "output_type": "stream",
          "name": "stdout",
          "text": [
            "enter the price: \n",
            "33\n",
            "enter the discount percentage: \n",
            "55\n",
            "new price is 14.850000000000001\n"
          ]
        }
      ]
    },
    {
      "cell_type": "code",
      "source": [
        "temperature = float(input(\"enter the temperature : \\n\"))\n",
        "\n",
        "if temperature < 0:\n",
        "  print(\"it is freezing outside\")\n",
        "elif temperature < 10:\n",
        "  print(\"it is cold outside\")\n",
        "elif temperature < 20:\n",
        "  print(\"it is warm outside\")\n",
        "else:\n",
        "  print(\"it is hot outside\")\n"
      ],
      "metadata": {
        "id": "_osq_H8kCjny",
        "outputId": "134fee0e-a049-490f-e80a-5ee81852d522",
        "colab": {
          "base_uri": "https://localhost:8080/"
        }
      },
      "execution_count": 14,
      "outputs": [
        {
          "output_type": "stream",
          "name": "stdout",
          "text": [
            "enter the temperature : \n",
            "5\n",
            "it is cold outside\n"
          ]
        }
      ]
    },
    {
      "cell_type": "code",
      "source": [
        "weight = float(input(\"enter your weight: \\n\"))\n",
        "height = float(input(\"enter your height:L: \\n\"))\n",
        "bmi = weight / (height ** 2)\n",
        "\n",
        "if bmi < 18.5:\n",
        "    print(\"you are thin\")\n",
        "elif 18.5 <= bmi < 24.9:\n",
        "    print(f\"you are normal\")\n",
        "elif 25 <= bmi < 29.9:\n",
        "    print(\"you are very fat\")\n",
        "else:\n",
        "    print(\" you are very fat\")"
      ],
      "metadata": {
        "id": "FU3T2mo3C4hJ",
        "outputId": "1f9f485b-4b5a-40e6-c11a-62a3d1b02adc",
        "colab": {
          "base_uri": "https://localhost:8080/"
        }
      },
      "execution_count": 15,
      "outputs": [
        {
          "output_type": "stream",
          "name": "stdout",
          "text": [
            "enter your weight: \n",
            "55\n",
            "enter your height:L: \n",
            "178\n",
            "you are thin\n"
          ]
        }
      ]
    }
  ]
}